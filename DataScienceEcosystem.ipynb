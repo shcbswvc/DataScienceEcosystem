{
 "cells": [
  {
   "cell_type": "markdown",
   "id": "aa20d32c",
   "metadata": {},
   "source": [
    "# Data Science Tools and Ecosystem"
   ]
  },
  {
   "cell_type": "markdown",
   "id": "e088c673",
   "metadata": {},
   "source": [
    "![2-title.png](https://github.com/shcbswvc/images/blob/main/DataScience_course.png?raw=true)"
   ]
  },
  {
   "cell_type": "markdown",
   "id": "70f0865f",
   "metadata": {},
   "source": [
    "In this notebook, Data Science Tools and Ecosystem are summarized."
   ]
  },
  {
   "cell_type": "markdown",
   "id": "3b097f51",
   "metadata": {},
   "source": [
    "![3-intro.png](https://github.com/shcbswvc/images/blob/main/Data_science.png?raw=true)"
   ]
  },
  {
   "cell_type": "markdown",
   "id": "2b825741",
   "metadata": {},
   "source": [
    "Objectives:\n",
    "* List popular languages for Data Science\n",
    "* Commonly used libraries used by Data Scientists\n",
    "* Data Science Tools\n",
    "* Using Github\n",
    "* Using R studio\n",
    "* Using JupyterLab"
   ]
  },
  {
   "cell_type": "markdown",
   "id": "c3781b9e",
   "metadata": {},
   "source": [
    "![10-objectives](https://github.com/shcbswvc/images/blob/main/10-objectives.png?raw=true)"
   ]
  },
  {
   "cell_type": "markdown",
   "id": "4e726f64",
   "metadata": {},
   "source": [
    "Some of the popular languages that Data Scientists use are:\n",
    "1. Python\n",
    "2. R\n",
    "3. Julia "
   ]
  },
  {
   "cell_type": "markdown",
   "id": "93879a63",
   "metadata": {},
   "source": [
    "![4-dslanguages.png](https://github.com/shcbswvc/images/blob/main/4-dslanguages.png?raw=true)"
   ]
  },
  {
   "cell_type": "markdown",
   "id": "34c2d603",
   "metadata": {},
   "source": [
    "Some of the commonly used libraries used by Data Scientists include:\n",
    "1. Pandas\n",
    "2. Sci-kit learn\n",
    "3. Numpy\n",
    "4. Tensor\n",
    "5. Plotly\n",
    "6. Matplotlib\n",
    "7. Seahorse"
   ]
  },
  {
   "cell_type": "markdown",
   "id": "90636cc5",
   "metadata": {},
   "source": [
    "![5-dslibraries.png](https://github.com/shcbswvc/images/blob/main/5-dslibraries.png?raw=true)"
   ]
  },
  {
   "cell_type": "markdown",
   "id": "1446fa12",
   "metadata": {},
   "source": [
    "|Data Science Tools|\n",
    "| :---:  |\n",
    "|Jupyter Notebook|\n",
    "|Google Colab|\n",
    "|Visual Studio|\n",
    "|Jupyter Lab|\n",
    "|Kaggle|\n",
    "|Anaconda|"
   ]
  },
  {
   "cell_type": "markdown",
   "id": "ef700add",
   "metadata": {},
   "source": [
    "![6-dstools.png](https://github.com/shcbswvc/images/blob/main/6-dstools(1).png?raw=true)"
   ]
  },
  {
   "cell_type": "markdown",
   "id": "5e121413",
   "metadata": {},
   "source": [
    "### Below are a few examples of evaluating arithmetic expressions in Python\n"
   ]
  },
  {
   "cell_type": "markdown",
   "id": "25b0ad5c",
   "metadata": {},
   "source": [
    "![7-introarithmetic](https://github.com/shcbswvc/images/blob/main/7-introarithmetic(1).png?raw=true)"
   ]
  },
  {
   "cell_type": "code",
   "execution_count": 4,
   "id": "683c287c",
   "metadata": {},
   "outputs": [
    {
     "data": {
      "text/plain": [
       "17"
      ]
     },
     "execution_count": 4,
     "metadata": {},
     "output_type": "execute_result"
    }
   ],
   "source": [
    "#This a simple arithmetic expression to mutiply then add integers\n",
    "(3*4)+5"
   ]
  },
  {
   "cell_type": "markdown",
   "id": "711fd971",
   "metadata": {},
   "source": [
    "![8-multiplyandaddintegers.png](https://github.com/shcbswvc/images/blob/main/8-multiplyandaddintegers.png?raw=true)"
   ]
  },
  {
   "cell_type": "code",
   "execution_count": 3,
   "id": "66e13135",
   "metadata": {},
   "outputs": [
    {
     "data": {
      "text/plain": [
       "3.3333333333333335"
      ]
     },
     "execution_count": 3,
     "metadata": {},
     "output_type": "execute_result"
    }
   ],
   "source": [
    "#This will convert 200 minutes to hours by diving by 60\n",
    "def hour(mins):\n",
    "    return ((mins)/(60))\n",
    "hour(200)"
   ]
  },
  {
   "cell_type": "markdown",
   "id": "f1b0aaf6",
   "metadata": {},
   "source": [
    "![9-hourstominutes.png](https://github.com/shcbswvc/images/blob/main/9-hourstominutes.png?raw=true)"
   ]
  },
  {
   "cell_type": "markdown",
   "id": "c289773b",
   "metadata": {},
   "source": [
    "## Author\n",
    "Dhruv Mahajan"
   ]
  },
  {
   "cell_type": "markdown",
   "id": "48e3b8f4",
   "metadata": {},
   "source": [
    "![11-authordetails](https://github.com/shcbswvc/images/blob/main/11-authordetails.png?raw=true)"
   ]
  }
 ],
 "metadata": {
  "kernelspec": {
   "display_name": "Python 3 (ipykernel)",
   "language": "python",
   "name": "python3"
  },
  "language_info": {
   "codemirror_mode": {
    "name": "ipython",
    "version": 3
   },
   "file_extension": ".py",
   "mimetype": "text/x-python",
   "name": "python",
   "nbconvert_exporter": "python",
   "pygments_lexer": "ipython3",
   "version": "3.11.1"
  }
 },
 "nbformat": 4,
 "nbformat_minor": 5
}
